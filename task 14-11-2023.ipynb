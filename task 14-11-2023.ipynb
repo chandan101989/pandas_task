{
 "cells": [
  {
   "cell_type": "markdown",
   "id": "9130499b",
   "metadata": {},
   "source": [
    "## Submit 2 examples for each module.\n",
    "1. while loop\n",
    "2. for loop\n",
    "3. if else\n",
    "4. if elif else\n",
    "5. user defined functions without for loop, if condition\n",
    "6. user defined functions with for loop\n",
    "7. user defined functions with for loop and if condition\n",
    "8. break\n",
    "9. continue\n",
    "10. for loop with in operator\n",
    "11. for loop with if statement\n",
    "12. for loop with not in operator\n",
    "10. if with in operator\n",
    "11. if with not in opearator                              \n",
    "12. DAILY TASK - 3 Come up with one example for all Data Structures.\n",
    "13.  DAILY TASK - 4 List Comprehension"
   ]
  },
  {
   "cell_type": "markdown",
   "id": "ad2ebcbe",
   "metadata": {},
   "source": [
    "## While loop"
   ]
  },
  {
   "cell_type": "code",
   "execution_count": 2,
   "id": "31f308f8",
   "metadata": {},
   "outputs": [
    {
     "name": "stdout",
     "output_type": "stream",
     "text": [
      "1\n",
      "2\n",
      "3\n",
      "4\n",
      "5\n"
     ]
    }
   ],
   "source": [
    "count=1\n",
    "while count<=5:\n",
    "    print(count)\n",
    "    count+=1"
   ]
  },
  {
   "cell_type": "code",
   "execution_count": 6,
   "id": "3d3316c3",
   "metadata": {},
   "outputs": [
    {
     "name": "stdout",
     "output_type": "stream",
     "text": [
      "enter the age : 134\n",
      "Invalid age.Please entere a valid age between 1 to 120\n",
      "enter the age : 136\n",
      "Invalid age.Please entere a valid age between 1 to 120\n",
      "enter the age : dfggggg\n",
      "Invalid age.Please entere a valid age between 1 to 120\n",
      "enter the age : 11\n",
      "valid age entered:11\n"
     ]
    }
   ],
   "source": [
    "data=False\n",
    "while not data:\n",
    "    age=input(\"enter the age : \")\n",
    "    if age.isdigit() and 0<int(age)<=120:\n",
    "        print(f\"valid age entered:{age}\")\n",
    "        data=True\n",
    "    else:\n",
    "        print(\"Invalid age.Please entere a valid age between 1 to 120\")"
   ]
  },
  {
   "cell_type": "markdown",
   "id": "635f0c5b",
   "metadata": {},
   "source": [
    "# For loop"
   ]
  },
  {
   "cell_type": "code",
   "execution_count": 12,
   "id": "d557247c",
   "metadata": {},
   "outputs": [
    {
     "name": "stdout",
     "output_type": "stream",
     "text": [
      "chandan\n",
      "kumar\n"
     ]
    }
   ],
   "source": [
    "my_loop=\"chandan\",\"kumar\"\n",
    "for i in my_loop:\n",
    "    print(i)"
   ]
  },
  {
   "cell_type": "code",
   "execution_count": 13,
   "id": "a4169b98",
   "metadata": {},
   "outputs": [
    {
     "name": "stdout",
     "output_type": "stream",
     "text": [
      "1\n",
      "2\n",
      "3\n",
      "4\n",
      "5\n",
      "6\n",
      "7\n",
      "8\n",
      "9\n"
     ]
    }
   ],
   "source": [
    "for i in range(1,10):\n",
    "    print(i)"
   ]
  },
  {
   "cell_type": "markdown",
   "id": "b2b90e3b",
   "metadata": {},
   "source": [
    "# IF ELSE statement"
   ]
  },
  {
   "cell_type": "code",
   "execution_count": 17,
   "id": "b2f2c561",
   "metadata": {},
   "outputs": [
    {
     "name": "stdout",
     "output_type": "stream",
     "text": [
      "x is greater than 30\n"
     ]
    }
   ],
   "source": [
    "x=100\n",
    "if x>30:\n",
    "    print(\"x is greater than 30\")\n",
    "else:\n",
    "    print(\"x is not greater than 30\")"
   ]
  },
  {
   "cell_type": "code",
   "execution_count": 18,
   "id": "cbce128d",
   "metadata": {},
   "outputs": [],
   "source": [
    "# to find out the given number is odd or even"
   ]
  },
  {
   "cell_type": "code",
   "execution_count": 23,
   "id": "cb2f2c4b",
   "metadata": {},
   "outputs": [
    {
     "name": "stdout",
     "output_type": "stream",
     "text": [
      "enter a number 4\n",
      "4 is even number\n"
     ]
    }
   ],
   "source": [
    "num= int(input(\"enter a number \"))\n",
    "if num %2 ==0:\n",
    "    print(f\"{num} is even number\")\n",
    "else:\n",
    "    print(f\"{num} is odd number\")"
   ]
  },
  {
   "cell_type": "code",
   "execution_count": 26,
   "id": "c18e7f19",
   "metadata": {},
   "outputs": [
    {
     "name": "stdout",
     "output_type": "stream",
     "text": [
      "enter valid user name:chandan\n",
      "enter valid password : chandan@123\n",
      "login successfully\n"
     ]
    }
   ],
   "source": [
    "user_name=\"chandan\"\n",
    "pasword=\"chandan@123\"\n",
    "\n",
    "user=input(\"enter valid user name:\" )\n",
    "password= input(\"enter valid password : \" )\n",
    "\n",
    "if user==user_name and password==pasword:\n",
    "    print(\"login successfully\")\n",
    "else:\n",
    "    print(\"incorrect username or password\")\n",
    "           \n"
   ]
  },
  {
   "cell_type": "markdown",
   "id": "e270fe48",
   "metadata": {},
   "source": [
    "# If elif else statement"
   ]
  },
  {
   "cell_type": "code",
   "execution_count": 28,
   "id": "d41e3741",
   "metadata": {},
   "outputs": [
    {
     "name": "stdout",
     "output_type": "stream",
     "text": [
      "enter the score 12\n",
      "The student grade is FAIL\n"
     ]
    }
   ],
   "source": [
    "#marks \n",
    "score=int(input(\"enter the score \"))\n",
    "if score>=95:\n",
    "    grade=\"A\"\n",
    "elif score>=75:\n",
    "    grade=\"B\"\n",
    "elif score >=60:\n",
    "    grade=\"C\"\n",
    "elif score >=35:\n",
    "    grade= \"JUST PASS\"\n",
    "else:\n",
    "    grade=\"FAIL\"\n",
    "print(f\"The student grade is {grade}\")"
   ]
  },
  {
   "cell_type": "markdown",
   "id": "3d99d5e2",
   "metadata": {},
   "source": [
    "# user defined functions without for loop, if condition\n"
   ]
  },
  {
   "cell_type": "code",
   "execution_count": 29,
   "id": "bf5c39be",
   "metadata": {},
   "outputs": [
    {
     "name": "stdout",
     "output_type": "stream",
     "text": [
      "name: chandan\n",
      "age: 34\n",
      "state: karnataka\n"
     ]
    }
   ],
   "source": [
    "def tasks(name,age,state):\n",
    "    print(\"name:\",name)\n",
    "    print(\"age:\",age)\n",
    "    print(\"state:\",state)\n",
    "tasks(\"chandan\",34,\"karnataka\")"
   ]
  },
  {
   "cell_type": "code",
   "execution_count": 30,
   "id": "35b6cda1",
   "metadata": {},
   "outputs": [
    {
     "name": "stdout",
     "output_type": "stream",
     "text": [
      "team: INDIA\n",
      "win: 9\n",
      "loss: 0\n"
     ]
    }
   ],
   "source": [
    "def world_cup(team,win,loss):\n",
    "    print(\"team:\",team)\n",
    "    print(\"win:\",win)\n",
    "    print(\"loss:\",loss)\n",
    "world_cup(\"INDIA\",9,0)"
   ]
  },
  {
   "cell_type": "markdown",
   "id": "71711b51",
   "metadata": {},
   "source": [
    "# user defined functions with for loop and if else statement"
   ]
  },
  {
   "cell_type": "code",
   "execution_count": 34,
   "id": "999c027f",
   "metadata": {},
   "outputs": [
    {
     "name": "stdout",
     "output_type": "stream",
     "text": [
      "enter the number: 7\n",
      "7 is a prime number\n"
     ]
    }
   ],
   "source": [
    "def prime_numbers(number):\n",
    "    if number <=1:\n",
    "        return False\n",
    "    for i in range(2,int(number ** 0.5)+1):\n",
    "        if number % i==0:\n",
    "            return False\n",
    "    return True\n",
    "num=int(input(\"enter the number: \"))\n",
    "if prime_numbers(num):\n",
    "     print(f\"{num} is a prime number\")\n",
    "else:\n",
    "    print(f\"{num} is not a prime number\")"
   ]
  },
  {
   "cell_type": "code",
   "execution_count": 38,
   "id": "e2be8381",
   "metadata": {},
   "outputs": [
    {
     "name": "stdout",
     "output_type": "stream",
     "text": [
      "Enter the number: 7\n",
      "The factorial of 7 is 5040\n"
     ]
    }
   ],
   "source": [
    "def calculate_factorial(n):\n",
    "    factorial = 1\n",
    "    for i in range(1, n + 1):\n",
    "        factorial *= i\n",
    "    return factorial\n",
    "result = int(input(\"Enter the number: \"))  \n",
    "fact_result = calculate_factorial(result)\n",
    "print(f\"The factorial of {result} is {fact_result}\")\n"
   ]
  },
  {
   "cell_type": "markdown",
   "id": "854e0c8e",
   "metadata": {},
   "source": [
    "# break and continue "
   ]
  },
  {
   "cell_type": "code",
   "execution_count": 39,
   "id": "9d8e5cfd",
   "metadata": {},
   "outputs": [
    {
     "name": "stdout",
     "output_type": "stream",
     "text": [
      "1\n",
      "2\n",
      "3\n",
      "4\n"
     ]
    }
   ],
   "source": [
    "# Using break to exit the loop early\n",
    "for i in range(1, 11):\n",
    "    if i == 5:\n",
    "        break \n",
    "    print(i)\n"
   ]
  },
  {
   "cell_type": "code",
   "execution_count": 41,
   "id": "4b8655aa",
   "metadata": {},
   "outputs": [
    {
     "name": "stdout",
     "output_type": "stream",
     "text": [
      "2\n",
      "4\n",
      "6\n",
      "8\n",
      "10\n"
     ]
    }
   ],
   "source": [
    "# Using continue to skip an iteration\n",
    "for i in range(1, 11):\n",
    "    if i % 2 != 0:\n",
    "        continue \n",
    "    print(i)\n"
   ]
  },
  {
   "cell_type": "markdown",
   "id": "b36cbcb1",
   "metadata": {},
   "source": [
    "# for loop with in operator"
   ]
  },
  {
   "cell_type": "code",
   "execution_count": 42,
   "id": "a2301120",
   "metadata": {},
   "outputs": [
    {
     "name": "stdout",
     "output_type": "stream",
     "text": [
      "1\n",
      "2\n",
      "3\n",
      "4\n",
      "5\n"
     ]
    }
   ],
   "source": [
    "numbers = [1, 2, 3, 4, 5]\n",
    "for num in numbers:\n",
    "    print(num)"
   ]
  },
  {
   "cell_type": "code",
   "execution_count": 43,
   "id": "4a394f40",
   "metadata": {},
   "outputs": [
    {
     "name": "stdout",
     "output_type": "stream",
     "text": [
      "H\n",
      "e\n",
      "l\n",
      "l\n",
      "o\n",
      "!\n"
     ]
    }
   ],
   "source": [
    "message = \"Hello!\"\n",
    "for char in message:\n",
    "    print(char)"
   ]
  },
  {
   "cell_type": "markdown",
   "id": "ff00171f",
   "metadata": {},
   "source": [
    "# for loop with if statement"
   ]
  },
  {
   "cell_type": "code",
   "execution_count": 44,
   "id": "8363742d",
   "metadata": {},
   "outputs": [
    {
     "name": "stdout",
     "output_type": "stream",
     "text": [
      "Numbers less than 5:\n",
      "1\n",
      "3\n",
      "2\n",
      "4\n"
     ]
    }
   ],
   "source": [
    "numbers = [1, 3, 5, 7, 9, 2, 4, 6, 8, 10]\n",
    "\n",
    "print(\"Numbers less than 5:\")\n",
    "for num in numbers:\n",
    "    if num < 5:\n",
    "        print(num)"
   ]
  },
  {
   "cell_type": "code",
   "execution_count": 45,
   "id": "0a89f4f8",
   "metadata": {},
   "outputs": [
    {
     "name": "stdout",
     "output_type": "stream",
     "text": [
      "Even numbers from 1 to 10:\n",
      "2\n",
      "4\n",
      "6\n",
      "8\n",
      "10\n"
     ]
    }
   ],
   "source": [
    "print(\"Even numbers from 1 to 10:\")\n",
    "for i in range(1, 11):\n",
    "    if i % 2 == 0:  \n",
    "        print(i)"
   ]
  },
  {
   "cell_type": "markdown",
   "id": "2b2659e9",
   "metadata": {},
   "source": [
    "# for loop with not in operator"
   ]
  },
  {
   "cell_type": "code",
   "execution_count": 46,
   "id": "e2e4b8fc",
   "metadata": {},
   "outputs": [
    {
     "name": "stdout",
     "output_type": "stream",
     "text": [
      "Consonants in the word 'hello':\n",
      "h\n",
      "l\n",
      "l\n"
     ]
    }
   ],
   "source": [
    "word = \"hello\"\n",
    "vowels = 'aeiou'\n",
    "\n",
    "print(\"Consonants in the word 'hello':\")\n",
    "for letter in word:\n",
    "    if letter not in vowels:\n",
    "        print(letter)\n",
    "\n",
    "\n"
   ]
  },
  {
   "cell_type": "markdown",
   "id": "6fd2f3fe",
   "metadata": {},
   "source": [
    "# LIST"
   ]
  },
  {
   "cell_type": "code",
   "execution_count": 47,
   "id": "7fe7fde0",
   "metadata": {},
   "outputs": [
    {
     "name": "stdout",
     "output_type": "stream",
     "text": [
      "Filtering elements in a list:\n",
      "1\n",
      "3\n",
      "5\n"
     ]
    }
   ],
   "source": [
    "my_list = [1, 2, 3, 4, 5]\n",
    "\n",
    "print(\"Filtering elements in a list:\")\n",
    "for item in my_list:\n",
    "    if item not in [2, 4]:  "
   ]
  },
  {
   "cell_type": "markdown",
   "id": "98caab96",
   "metadata": {},
   "source": [
    "# TUPLE"
   ]
  },
  {
   "cell_type": "code",
   "execution_count": 48,
   "id": "39f64c7a",
   "metadata": {},
   "outputs": [
    {
     "name": "stdout",
     "output_type": "stream",
     "text": [
      "Filtering elements in a tuple:\n",
      "5\n",
      "7\n",
      "9\n"
     ]
    }
   ],
   "source": [
    "my_tuple = (5, 6, 7, 8, 9)\n",
    "\n",
    "print(\"Filtering elements in a tuple:\")\n",
    "for val in my_tuple:\n",
    "    if val not in (6, 8):  # Filter out elements 6 and 8\n",
    "        print(val)"
   ]
  },
  {
   "cell_type": "markdown",
   "id": "40405c88",
   "metadata": {},
   "source": [
    "# SETS"
   ]
  },
  {
   "cell_type": "code",
   "execution_count": 49,
   "id": "9f2558eb",
   "metadata": {},
   "outputs": [
    {
     "name": "stdout",
     "output_type": "stream",
     "text": [
      "Filtering elements in a set:\n",
      "20\n",
      "40\n",
      "30\n"
     ]
    }
   ],
   "source": [
    "my_set = {10, 20, 30, 40, 50}\n",
    "\n",
    "print(\"Filtering elements in a set:\")\n",
    "for element in my_set:\n",
    "    if element not in {10, 50}:  # Filter out elements 10 and 50\n",
    "        print(element)"
   ]
  },
  {
   "cell_type": "markdown",
   "id": "8ff1090f",
   "metadata": {},
   "source": [
    "# Dictionaries"
   ]
  },
  {
   "cell_type": "code",
   "execution_count": 50,
   "id": "3f8f6c78",
   "metadata": {},
   "outputs": [
    {
     "name": "stdout",
     "output_type": "stream",
     "text": [
      "Filtering elements in a dictionary (keys):\n",
      "a\n",
      "c\n",
      "e\n"
     ]
    }
   ],
   "source": [
    "my_dict = {'a': 1, 'b': 2, 'c': 3, 'd': 4, 'e': 5}\n",
    "\n",
    "print(\"Filtering elements in a dictionary (keys):\")\n",
    "for key in my_dict:\n",
    "    if key not in ['b', 'd']:  # Filter out keys 'b' and 'd'\n",
    "        print(key)"
   ]
  },
  {
   "cell_type": "code",
   "execution_count": 51,
   "id": "b0042f12",
   "metadata": {},
   "outputs": [
    {
     "name": "stdout",
     "output_type": "stream",
     "text": [
      "Filtering elements in a dictionary (values):\n",
      "1\n",
      "3\n",
      "5\n"
     ]
    }
   ],
   "source": [
    "my_dict = {'a': 1, 'b': 2, 'c': 3, 'd': 4, 'e': 5}\n",
    "\n",
    "print(\"Filtering elements in a dictionary (values):\")\n",
    "for value in my_dict.values():\n",
    "    if value not in [2, 4]:  # Filter out values 2 and 4\n",
    "        print(value)"
   ]
  },
  {
   "cell_type": "markdown",
   "id": "4e346c11",
   "metadata": {},
   "source": [
    "#  List Comprehension"
   ]
  },
  {
   "cell_type": "code",
   "execution_count": null,
   "id": "adde4d8d",
   "metadata": {},
   "outputs": [],
   "source": [
    "# suppose you want to make a new list where each number is replaced by its square.\n",
    "#Instead of using a loop, you can do this using list comprehension, which is like a shortcut in Python."
   ]
  },
  {
   "cell_type": "code",
   "execution_count": 52,
   "id": "746436f2",
   "metadata": {},
   "outputs": [
    {
     "name": "stdout",
     "output_type": "stream",
     "text": [
      "[1, 4, 9, 16, 25]\n"
     ]
    }
   ],
   "source": [
    "original_list = [1, 2, 3, 4, 5]\n",
    "squared_list = []  \n",
    "for num in original_list:  \n",
    "    squared_list.append(num ** 2)  \n",
    "\n",
    "print(squared_list)"
   ]
  },
  {
   "cell_type": "code",
   "execution_count": 53,
   "id": "66a7e958",
   "metadata": {},
   "outputs": [
    {
     "name": "stdout",
     "output_type": "stream",
     "text": [
      "[1, 4, 9, 16, 25]\n"
     ]
    }
   ],
   "source": [
    "original_list = [1, 2, 3, 4, 5]\n",
    "squared_list = [num ** 2 for num in original_list]\n",
    "print(squared_list)"
   ]
  },
  {
   "cell_type": "code",
   "execution_count": null,
   "id": "359e1e81",
   "metadata": {},
   "outputs": [],
   "source": []
  },
  {
   "cell_type": "code",
   "execution_count": null,
   "id": "4e04399b",
   "metadata": {},
   "outputs": [],
   "source": []
  },
  {
   "cell_type": "code",
   "execution_count": null,
   "id": "118a9b9a",
   "metadata": {},
   "outputs": [],
   "source": []
  },
  {
   "cell_type": "code",
   "execution_count": null,
   "id": "7e1aa4c2",
   "metadata": {},
   "outputs": [],
   "source": []
  },
  {
   "cell_type": "code",
   "execution_count": null,
   "id": "fa2f2975",
   "metadata": {},
   "outputs": [],
   "source": []
  },
  {
   "cell_type": "code",
   "execution_count": null,
   "id": "88781182",
   "metadata": {},
   "outputs": [],
   "source": []
  },
  {
   "cell_type": "code",
   "execution_count": null,
   "id": "996ae340",
   "metadata": {},
   "outputs": [],
   "source": []
  },
  {
   "cell_type": "code",
   "execution_count": null,
   "id": "9494278e",
   "metadata": {},
   "outputs": [],
   "source": []
  },
  {
   "cell_type": "code",
   "execution_count": null,
   "id": "1b462b34",
   "metadata": {},
   "outputs": [],
   "source": []
  },
  {
   "cell_type": "code",
   "execution_count": null,
   "id": "63830336",
   "metadata": {},
   "outputs": [],
   "source": []
  },
  {
   "cell_type": "code",
   "execution_count": null,
   "id": "44afc971",
   "metadata": {},
   "outputs": [],
   "source": []
  },
  {
   "cell_type": "code",
   "execution_count": null,
   "id": "a7373180",
   "metadata": {},
   "outputs": [],
   "source": []
  },
  {
   "cell_type": "code",
   "execution_count": null,
   "id": "2a27e46b",
   "metadata": {},
   "outputs": [],
   "source": []
  },
  {
   "cell_type": "code",
   "execution_count": null,
   "id": "344b2bff",
   "metadata": {},
   "outputs": [],
   "source": []
  },
  {
   "cell_type": "code",
   "execution_count": null,
   "id": "2c372453",
   "metadata": {},
   "outputs": [],
   "source": []
  },
  {
   "cell_type": "code",
   "execution_count": null,
   "id": "1ff4e87f",
   "metadata": {},
   "outputs": [],
   "source": []
  },
  {
   "cell_type": "code",
   "execution_count": null,
   "id": "d8a1c621",
   "metadata": {},
   "outputs": [],
   "source": []
  },
  {
   "cell_type": "code",
   "execution_count": null,
   "id": "2e2b223e",
   "metadata": {},
   "outputs": [],
   "source": []
  },
  {
   "cell_type": "code",
   "execution_count": null,
   "id": "2a24268b",
   "metadata": {},
   "outputs": [],
   "source": []
  },
  {
   "cell_type": "code",
   "execution_count": null,
   "id": "53da8d2f",
   "metadata": {},
   "outputs": [],
   "source": []
  }
 ],
 "metadata": {
  "kernelspec": {
   "display_name": "Python 3 (ipykernel)",
   "language": "python",
   "name": "python3"
  },
  "language_info": {
   "codemirror_mode": {
    "name": "ipython",
    "version": 3
   },
   "file_extension": ".py",
   "mimetype": "text/x-python",
   "name": "python",
   "nbconvert_exporter": "python",
   "pygments_lexer": "ipython3",
   "version": "3.11.5"
  }
 },
 "nbformat": 4,
 "nbformat_minor": 5
}
